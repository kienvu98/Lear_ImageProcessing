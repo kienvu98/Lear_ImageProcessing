{
 "cells": [
  {
   "cell_type": "code",
   "execution_count": 4,
   "metadata": {},
   "outputs": [],
   "source": [
    "# varian là độ lệnh chuẩn \n",
    "# nó là độ lệnh so với vị trí trung bình \n",
    "# minh hoạt tính varian\n",
    "def mean(x):\n",
    "    t=sum(x)\n",
    "    return t/len(x)\n",
    "\n",
    "def varian(x):\n",
    "    me= mean(x)\n",
    "    \n",
    "    diff=[]\n",
    "    for i in x:\n",
    "        diff.append((i-me)**2)\n",
    "    var = sum(diff)/len(diff)\n",
    "    return var\n",
    "    "
   ]
  },
  {
   "cell_type": "code",
   "execution_count": 6,
   "metadata": {},
   "outputs": [
    {
     "data": {
      "text/plain": [
       "4.472222222222222"
      ]
     },
     "execution_count": 6,
     "metadata": {},
     "output_type": "execute_result"
    }
   ],
   "source": [
    "x=[1,3,4,2,6,7]\n",
    "var= varian(x)\n",
    "var"
   ]
  },
  {
   "cell_type": "code",
   "execution_count": 16,
   "metadata": {},
   "outputs": [
    {
     "name": "stdout",
     "output_type": "stream",
     "text": [
      "Collecting scipy\n",
      "  Downloading scipy-1.5.2-cp38-cp38-win_amd64.whl (31.4 MB)\n",
      "Requirement already satisfied: numpy>=1.14.5 in c:\\users\\lenovo\\.julia\\conda\\3\\lib\\site-packages (from scipy) (1.19.2)\n",
      "Installing collected packages: scipy\n",
      "Successfully installed scipy-1.5.2\n",
      "Note: you may need to restart the kernel to use updated packages.\n"
     ]
    }
   ],
   "source": [
    "pip install scipy"
   ]
  },
  {
   "cell_type": "code",
   "execution_count": 28,
   "metadata": {},
   "outputs": [
    {
     "name": "stdout",
     "output_type": "stream",
     "text": [
      "[[[123  49  31]\n",
      "  [123  49  31]\n",
      "  [123  49  31]\n",
      "  ...\n",
      "  [  0   0   0]\n",
      "  [  0   0   0]\n",
      "  [  0   0   0]]\n",
      "\n",
      " [[123  49  31]\n",
      "  [123  49  31]\n",
      "  [124  50  32]\n",
      "  ...\n",
      "  [  4   4   4]\n",
      "  [  4   4   4]\n",
      "  [  4   4   4]]\n",
      "\n",
      " [[123  49  31]\n",
      "  [123  49  31]\n",
      "  [124  50  32]\n",
      "  ...\n",
      "  [  0   0   0]\n",
      "  [  0   0   0]\n",
      "  [  0   0   0]]\n",
      "\n",
      " ...\n",
      "\n",
      " [[ 19 128 179]\n",
      "  [ 17 129 181]\n",
      "  [ 16 132 185]\n",
      "  ...\n",
      "  [  0   0   0]\n",
      "  [  0   0   0]\n",
      "  [  0   0   0]]\n",
      "\n",
      " [[ 17 116 166]\n",
      "  [ 16 117 169]\n",
      "  [ 16 120 173]\n",
      "  ...\n",
      "  [  0   0   0]\n",
      "  [  0   0   0]\n",
      "  [  0   0   0]]\n",
      "\n",
      " [[ 16 108 157]\n",
      "  [ 16 108 159]\n",
      "  [ 15 111 164]\n",
      "  ...\n",
      "  [  0   0   0]\n",
      "  [  0   0   0]\n",
      "  [  0   0   0]]]\n"
     ]
    }
   ],
   "source": [
    "# ứng dụng của varian để phát hiện cạnh của vật thể trong ảnh\n",
    "import numpy as np\n",
    "import cv2\n",
    "import math\n",
    "from scipy.ndimage.filters import generic_filter\n",
    "\n",
    "img=cv2.imread('nha_tho.jpg',1) # đưa về ảnh xám\n",
    "print(img)\n",
    "\n",
    "gray_img= cv2.cvtColor(img, cv2.COLOR_BGR2GRAY)\n",
    "\n",
    "x= gray_img.astype('float')\n",
    "x_filt= generic_filter(x,np.std, size=2) # sử dụng hàm generic_filter truyền vào ảnh , np.std là hàm tính độ lệnh chuẩn, size là độ lớn của kernel\n",
    "\n",
    "# lọc loại bỏ những giá trị nhỏ hơn 20\n",
    "x_filt[x_filt <20]=0\n",
    "\n",
    "# tăng độ sáng cảu điểm ảnh của x_filt để cho rõ ràng\n",
    "x_filt=x_filt *2.5\n",
    "\n",
    "cv2.imshow('input',img)\n",
    "cv2.imshow('out', x_filt)\n",
    "\n",
    "cv2.waitKey(0)\n",
    "cv2.destroyAllWindows()\n",
    "\n"
   ]
  }
 ],
 "metadata": {
  "kernelspec": {
   "display_name": "Python 3",
   "language": "python",
   "name": "python3"
  },
  "language_info": {
   "codemirror_mode": {
    "name": "ipython",
    "version": 3
   },
   "file_extension": ".py",
   "mimetype": "text/x-python",
   "name": "python",
   "nbconvert_exporter": "python",
   "pygments_lexer": "ipython3",
   "version": "3.8.3"
  }
 },
 "nbformat": 4,
 "nbformat_minor": 4
}

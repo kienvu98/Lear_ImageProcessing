{
 "cells": [
  {
   "cell_type": "code",
   "execution_count": 3,
   "metadata": {},
   "outputs": [],
   "source": [
    "# median là lấy giá trị ở giữa của 1 dãy số(dãy số phải sắp xếp)\n",
    "# công thức tính median với dãy số x và độ dài m\n",
    "# m lẻ thì median= x[m/2+1]\n",
    "# m chẵn thì median=(x[m/2]+x[m/2+1])/2\n",
    "\n",
    "# lập trình mô tả thuật toán\n",
    "def median(x):\n",
    "    x.sort()\n",
    "    if len(x)%2==0:\n",
    "        m1= len(x)/2\n",
    "        m2= len(x)/2+1\n",
    "        m1= int(m1)-1\n",
    "        m2= int(m2)-1\n",
    "        median=(x[m1] + x[m2])/2\n",
    "    else:\n",
    "        m=len(x)/2\n",
    "        m= int(m)-1\n",
    "        median=x[m]\n",
    "    return median"
   ]
  },
  {
   "cell_type": "code",
   "execution_count": 7,
   "metadata": {},
   "outputs": [
    {
     "data": {
      "text/plain": [
       "3.5"
      ]
     },
     "execution_count": 7,
     "metadata": {},
     "output_type": "execute_result"
    }
   ],
   "source": [
    "x=[1,4,2,6,8,3]\n",
    "med=median(x)\n",
    "med"
   ]
  },
  {
   "cell_type": "code",
   "execution_count": 12,
   "metadata": {},
   "outputs": [
    {
     "name": "stdout",
     "output_type": "stream",
     "text": [
      "[[[  0   0   0]\n",
      "  [ 10  10  10]\n",
      "  [  1   1   1]\n",
      "  ...\n",
      "  [254 254 254]\n",
      "  [  0   0   0]\n",
      "  [  4   4   4]]\n",
      "\n",
      " [[  6   6   6]\n",
      "  [242 242 242]\n",
      "  [255 255 255]\n",
      "  ...\n",
      "  [252 252 252]\n",
      "  [254 254 254]\n",
      "  [ 14  14  14]]\n",
      "\n",
      " [[  1   1   1]\n",
      "  [254 254 254]\n",
      "  [255 255 255]\n",
      "  ...\n",
      "  [253 253 253]\n",
      "  [253 253 253]\n",
      "  [  0   0   0]]\n",
      "\n",
      " ...\n",
      "\n",
      " [[  0   0   0]\n",
      "  [254 254 254]\n",
      "  [255 255 255]\n",
      "  ...\n",
      "  [252 252 252]\n",
      "  [255 255 255]\n",
      "  [  3   3   3]]\n",
      "\n",
      " [[  0   0   0]\n",
      "  [255 255 255]\n",
      "  [253 253 253]\n",
      "  ...\n",
      "  [255 255 255]\n",
      "  [253 253 253]\n",
      "  [  1   1   1]]\n",
      "\n",
      " [[  2   2   2]\n",
      "  [  0   0   0]\n",
      "  [  1   1   1]\n",
      "  ...\n",
      "  [  2   2   2]\n",
      "  [  0   0   0]\n",
      "  [  6   6   6]]]\n"
     ]
    }
   ],
   "source": [
    "# ứng dụng của median để khử nhiễu trong ảnh\n",
    "# opencv cung cấp hàm medianBlur() để khử nhiễu trong ảnh bằng median\n",
    "import cv2\n",
    "import numpy as np\n",
    "\n",
    "# đọc ảnh\n",
    "img=cv2.imread('salt_pepper.jpg')\n",
    "print(img)\n",
    "\n",
    "#dùng hàm medianBlur để khử nhiễu\n",
    "\n",
    "out_img=cv2.medianBlur(img,3) # kernel mà lớn thì sẽ làm mờ ảnh\n",
    "\n",
    "cv2.imshow('int-img',img)\n",
    "cv2.imshow('out-img',out_img)\n",
    "\n",
    "cv2.waitKey(0)\n",
    "cv2.destroyAllWindows()"
   ]
  }
 ],
 "metadata": {
  "kernelspec": {
   "display_name": "Python 3",
   "language": "python",
   "name": "python3"
  },
  "language_info": {
   "codemirror_mode": {
    "name": "ipython",
    "version": 3
   },
   "file_extension": ".py",
   "mimetype": "text/x-python",
   "name": "python",
   "nbconvert_exporter": "python",
   "pygments_lexer": "ipython3",
   "version": "3.8.3"
  }
 },
 "nbformat": 4,
 "nbformat_minor": 4
}

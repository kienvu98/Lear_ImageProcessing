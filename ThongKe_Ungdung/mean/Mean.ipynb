{
 "cells": [
  {
   "cell_type": "code",
   "execution_count": 1,
   "metadata": {},
   "outputs": [],
   "source": [
    "#công thức tính mean\n",
    "# μ=1/N*tongsigam(xi) i chạy từ 1 đến N (N là số data trong tập x)"
   ]
  },
  {
   "cell_type": "code",
   "execution_count": 12,
   "metadata": {},
   "outputs": [],
   "source": [
    "# lập trình minh họa\n",
    "def mean(x):\n",
    "    t=sum(x)\n",
    "    m=t/len(x)\n",
    "    return m"
   ]
  },
  {
   "cell_type": "code",
   "execution_count": 13,
   "metadata": {},
   "outputs": [
    {
     "data": {
      "text/plain": [
       "4.666666666666667"
      ]
     },
     "execution_count": 13,
     "metadata": {},
     "output_type": "execute_result"
    }
   ],
   "source": [
    "x=[2,8,5,4,1,8]\n",
    "m=mean(x)\n",
    "m"
   ]
  },
  {
   "cell_type": "code",
   "execution_count": 1,
   "metadata": {},
   "outputs": [],
   "source": [
    "# làm mờ ảnh với maen\n",
    "# đọc ảnh\n",
    "import cv2 as cv\n",
    "import numpy as np"
   ]
  },
  {
   "cell_type": "code",
   "execution_count": 23,
   "metadata": {},
   "outputs": [],
   "source": [
    "img= cv.imread('mrbean.jpg',0)# tham số ) để chuyển về ảnh xám\n",
    "\n",
    "# tạo kernel(5*5) trượt trên ảnh\n",
    "kernel=np.ones((3,3), np.float32)/9\n",
    "\n",
    "# làm mờ ảnh\n",
    "out_img=cv.filter2D(img, cv.CV_8U,kernel)\n",
    "\n",
    "# show ảnh\n",
    "cv.imshow('img', img)\n",
    "cv.imshow('dst', out_img)\n",
    "\n",
    "cv.waitKey(0)\n",
    "cv.destroyAllWindows()\n",
    "\n",
    "# lưu ý tạo kernel càng lớn thì đồ mờ của ảnh càng lớ"
   ]
  },
  {
   "cell_type": "code",
   "execution_count": 36,
   "metadata": {},
   "outputs": [
    {
     "name": "stdout",
     "output_type": "stream",
     "text": [
      "[[168 169 171 ... 101  96  98]\n",
      " [170 171 173 ...  97  90  94]\n",
      " [173 174 175 ...  94  83  90]\n",
      " ...\n",
      " [ 59  65  62 ... 248 248 248]\n",
      " [ 47  46  44 ... 248 248 248]\n",
      " [ 20  19  17 ... 248 248 248]]\n"
     ]
    },
    {
     "ename": "error",
     "evalue": "OpenCV(4.0.1) C:\\ci\\opencv-suite_1573470242804\\work\\modules\\objdetect\\src\\cascadedetect.cpp:1658: error: (-215:Assertion failed) !empty() in function 'cv::CascadeClassifier::detectMultiScale'\n",
     "output_type": "error",
     "traceback": [
      "\u001b[1;31m---------------------------------------------------------------------------\u001b[0m",
      "\u001b[1;31merror\u001b[0m                                     Traceback (most recent call last)",
      "\u001b[1;32m<ipython-input-36-d8b12847e1db>\u001b[0m in \u001b[0;36m<module>\u001b[1;34m\u001b[0m\n\u001b[0;32m     10\u001b[0m \u001b[0mprint\u001b[0m\u001b[1;33m(\u001b[0m\u001b[0mgray_img\u001b[0m\u001b[1;33m)\u001b[0m\u001b[1;33m\u001b[0m\u001b[1;33m\u001b[0m\u001b[0m\n\u001b[0;32m     11\u001b[0m \u001b[1;31m# lấy vị trí khuôn mặt\u001b[0m\u001b[1;33m\u001b[0m\u001b[1;33m\u001b[0m\u001b[1;33m\u001b[0m\u001b[0m\n\u001b[1;32m---> 12\u001b[1;33m \u001b[0mmatrix_faces\u001b[0m\u001b[1;33m=\u001b[0m \u001b[0mface_cascade\u001b[0m\u001b[1;33m.\u001b[0m\u001b[0mdetectMultiScale\u001b[0m\u001b[1;33m(\u001b[0m\u001b[0mgray_img\u001b[0m\u001b[1;33m,\u001b[0m \u001b[1;36m1.1\u001b[0m\u001b[1;33m,\u001b[0m\u001b[1;36m5\u001b[0m\u001b[1;33m)\u001b[0m\u001b[1;33m\u001b[0m\u001b[1;33m\u001b[0m\u001b[0m\n\u001b[0m\u001b[0;32m     13\u001b[0m \u001b[1;33m\u001b[0m\u001b[0m\n\u001b[0;32m     14\u001b[0m \u001b[1;31m#tạo kenrel\u001b[0m\u001b[1;33m\u001b[0m\u001b[1;33m\u001b[0m\u001b[1;33m\u001b[0m\u001b[0m\n",
      "\u001b[1;31merror\u001b[0m: OpenCV(4.0.1) C:\\ci\\opencv-suite_1573470242804\\work\\modules\\objdetect\\src\\cascadedetect.cpp:1658: error: (-215:Assertion failed) !empty() in function 'cv::CascadeClassifier::detectMultiScale'\n"
     ]
    }
   ],
   "source": [
    "import cv2 \n",
    "# làm mờ khuôn mặt của mr.bean\n",
    "\n",
    "# dùng thư viện opencv để lấy ra ma trận vị trí khuôn mặt trong hình\n",
    "face_cascade=cv2.CascadeClassifier('Haar Cascade/haarcascade_frontalface_default.xml')\n",
    "\n",
    "# thư viện này chỉ tìm được khuôn mặ trên ảnh xám\n",
    "gray_img=cv2.imread('mrbean.jpg',0)\n",
    "\n",
    "print(gray_img)\n",
    "# lấy vị trí khuôn mặt\n",
    "matrix_faces= face_cascade.detectMultiScale(gray_img, 1.1,5)\n",
    "\n",
    "#tạo kenrel\n",
    "kernel= np.ones((7,7),np.float32)/49\n",
    "\n",
    "# vẽ hình chữ nhật bao quang khuôn mặt\n",
    "for (x,y,w,h) in matrix_faces:\n",
    "    cv.rectangle(gray_img,(x,y),(x+w),(y+h),(0,255,0),1)\n",
    "    \n",
    "    roi=gray_img[y:y+h, x:x+w]\n",
    "    out_roi= cv2.filter2D(roi,cv.CV_8U,kernel)\n",
    "    \n",
    "    gray_img[y:y+h,x:x+w]=out_roi\n",
    "    \n",
    "# show ảnh\n",
    "\n",
    "cv2.imshow('img', gray_img)\n",
    "\n",
    "cv2.waitKey(0)\n",
    "cv2.destroyAllWindows()"
   ]
  },
  {
   "cell_type": "code",
   "execution_count": null,
   "metadata": {},
   "outputs": [],
   "source": []
  }
 ],
 "metadata": {
  "kernelspec": {
   "display_name": "Python 3",
   "language": "python",
   "name": "python3"
  },
  "language_info": {
   "codemirror_mode": {
    "name": "ipython",
    "version": 3
   },
   "file_extension": ".py",
   "mimetype": "text/x-python",
   "name": "python",
   "nbconvert_exporter": "python",
   "pygments_lexer": "ipython3",
   "version": "3.8.3"
  }
 },
 "nbformat": 4,
 "nbformat_minor": 4
}

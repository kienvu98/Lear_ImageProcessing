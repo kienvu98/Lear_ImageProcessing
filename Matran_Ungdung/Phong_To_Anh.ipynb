{
 "cells": [
  {
   "cell_type": "code",
   "execution_count": 13,
   "metadata": {},
   "outputs": [],
   "source": [
    "import cv2\n",
    "import numpy as np"
   ]
  },
  {
   "cell_type": "raw",
   "metadata": {},
   "source": [
    "các phương pháp phóng to ảnh đơn giản bằng phương pháp nội suy:\n",
    "có 2 phương pháp là \n",
    "+ dùng thuật toán K-NN để dự đoán các pixel xung quanh thuật toán sẽ kiểm tra xem vị trí của pixel đó gần pixel nào nhất rồi găn giá trị của pixel đấy cho pixel cần tìm\n",
    "+ dùng phương pháp hồi quy tuyến tính để tìm mối liên hệ giữa vị trí và giá trị của từng pixel cần tìm dựa theo pt hồi quy xây dựng trên những pixel đã biết\n"
   ]
  },
  {
   "cell_type": "code",
   "execution_count": 24,
   "metadata": {},
   "outputs": [],
   "source": [
    "# sử dụng hàm resize trong opencv để phóng to ảnh\n",
    "img= cv2.imread('anh/buom.jpg')\n",
    "\n",
    "height, width, chanel= img.shape\n",
    "\n",
    "new_dim=(height*3, width*3)\n",
    "\n",
    "# phóng to ảnh bằng hàm resize với 2 cách là KNN và hàm tuyến tính\n",
    "\n",
    "resize_nearest= cv2.resize(img, new_dim, interpolation= cv2.INTER_NEAREST)\n",
    "resize_linear=cv2.resize(img, new_dim, interpolation= cv2.INTER_LINEAR)\n",
    "\n",
    "resize_linear.shape\n",
    "\n",
    "# hiển thị kết quả\n",
    "\n",
    "cv2.imshow('img', img)\n",
    "cv2.imshow('img_resize_knn', resize_nearest)\n",
    "cv2.imshow('img_resize_linear', resize_linear)\n",
    "\n",
    "cv2.waitKey(0)\n",
    "cv2.destroyAllWindows()\n",
    "\n",
    "# kết quả cho thấy thì ảnh phóng to bằng phương pháp hồi quy cho chất lượng tốt hơn\n",
    "# vì knn chỉ lấy giá trị xung quanh bằng đúng giá trị ở vị trí gần nhât\n",
    "# còn hồi quy nội suy giá trị băng đường hồi quy lên giá trị sẽ có phần chính xác hơn"
   ]
  }
 ],
 "metadata": {
  "kernelspec": {
   "display_name": "Python 3",
   "language": "python",
   "name": "python3"
  },
  "language_info": {
   "codemirror_mode": {
    "name": "ipython",
    "version": 3
   },
   "file_extension": ".py",
   "mimetype": "text/x-python",
   "name": "python",
   "nbconvert_exporter": "python",
   "pygments_lexer": "ipython3",
   "version": "3.8.3"
  }
 },
 "nbformat": 4,
 "nbformat_minor": 4
}

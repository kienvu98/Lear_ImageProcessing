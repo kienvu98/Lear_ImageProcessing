{
 "cells": [
  {
   "cell_type": "code",
   "execution_count": 2,
   "metadata": {},
   "outputs": [],
   "source": [
    "import cv2"
   ]
  },
  {
   "cell_type": "code",
   "execution_count": 15,
   "metadata": {},
   "outputs": [
    {
     "data": {
      "text/plain": [
       "numpy.uint8"
      ]
     },
     "execution_count": 15,
     "metadata": {},
     "output_type": "execute_result"
    }
   ],
   "source": [
    "# đọc tạo thành ảnh xám\n",
    "img= cv2.imread('anh/anh-vietnam.jpg',0)\n",
    "type(img)\n",
    "type(img[0][0])"
   ]
  },
  {
   "cell_type": "code",
   "execution_count": 5,
   "metadata": {},
   "outputs": [],
   "source": [
    "# tính đạo hàm trung bình theo hướng\n",
    "# tính theo hướng X sẽ lấy được các đặc trung cạnh theo chiều ngang\n",
    "# tạo 1 kernel cỡ 3*3 có giá trị là [[-1, 0 ,1],[-2, 0 , 2],[-1, 0 ,1]] chạy hết bức ảnh thì sẽ lấy các đặc trưng cạnh theo chiều x\n",
    "# tạo kernel đọa hàm trung bình 3*3 có giá trị [[1, 2 , 1],[0,0,0],[-1 , 0, 1]] chạy hết bức ảnh sẽ lấy được đặc trưn theo chiều dọc(chiều y)"
   ]
  },
  {
   "cell_type": "code",
   "execution_count": 17,
   "metadata": {},
   "outputs": [],
   "source": [
    "# open cv có hàm sobel giúp tạo kernel và trượt trên ảnh để trích xuất đặc trung cạnh\n",
    "# demo \n",
    "\n",
    "# lấy đạo hàm theo chiều x\n",
    "sobelx= cv2.Sobel(img,cv2.CV_8U, 1,0)\n",
    "\n",
    "# lấy đạo hàm theo chiều y\n",
    "sobley= cv2.Sobel(img, cv2.CV_8U, 0,1)\n",
    "\n",
    "cv2.imshow('img', img)\n",
    "cv2.imshow('sobelX', sobelx)\n",
    "cv2.imshow('sobelY',sobley)\n",
    "\n",
    "cv2.waitKey(0)\n",
    "cv2.destroyAllWindows()\n",
    "# lưu ý đến kiểu dữ liệu khi sử dụng hàm"
   ]
  }
 ],
 "metadata": {
  "kernelspec": {
   "display_name": "Python 3",
   "language": "python",
   "name": "python3"
  },
  "language_info": {
   "codemirror_mode": {
    "name": "ipython",
    "version": 3
   },
   "file_extension": ".py",
   "mimetype": "text/x-python",
   "name": "python",
   "nbconvert_exporter": "python",
   "pygments_lexer": "ipython3",
   "version": "3.8.3"
  }
 },
 "nbformat": 4,
 "nbformat_minor": 4
}

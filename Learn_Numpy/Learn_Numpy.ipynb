{
 "cells": [
  {
   "cell_type": "code",
   "execution_count": 3,
   "metadata": {},
   "outputs": [],
   "source": [
    "#import thư viện numpy\n",
    "import numpy as np"
   ]
  },
  {
   "cell_type": "code",
   "execution_count": 11,
   "metadata": {},
   "outputs": [
    {
     "name": "stdout",
     "output_type": "stream",
     "text": [
      "[1 2 3 4]\n",
      "[1 2 3 4]\n",
      "(4,)\n"
     ]
    }
   ],
   "source": [
    "#tạo vector với numpy hay còn gọi là mảng 1 chiều\n",
    "list1= [1,2,3,4]\n",
    "data= np.array(list1)\n",
    "print(data)\n",
    "# cách khác để tạo mảng 1 chiều\n",
    "data1= np.array([1,2,3,4])\n",
    "print(data1)\n",
    "print(data.shape)\n",
    "# shape của vector data=4 tức là 1 vector có 1 hàng 4 cột"
   ]
  },
  {
   "cell_type": "code",
   "execution_count": 15,
   "metadata": {},
   "outputs": [
    {
     "name": "stdout",
     "output_type": "stream",
     "text": [
      "[[1 2 3]\n",
      " [4 5 6]]\n",
      "[[2 0 1]\n",
      " [4 1 2]]\n",
      "shape của matrix là: (2, 3)\n"
     ]
    }
   ],
   "source": [
    "# taọ mảng 2 chiều hay còn gọi là ma trận \n",
    "# cách 1\n",
    "list2= [[1,2,3],[4,5,6]]\n",
    "matrix= np.array(list2)\n",
    "print(matrix)\n",
    "#cách 2\n",
    "matrix2=np.array([[2,0,1],\n",
    "                   [4,1,2]])\n",
    "print(matrix2)\n",
    "print('shape của matrix là:', matrix.shape)"
   ]
  },
  {
   "cell_type": "code",
   "execution_count": 18,
   "metadata": {},
   "outputs": [
    {
     "name": "stdout",
     "output_type": "stream",
     "text": [
      "[[[ 1  2]\n",
      "  [ 3  4]\n",
      "  [ 4  5]]\n",
      "\n",
      " [[-1  3]\n",
      "  [ 0  0]\n",
      "  [ 1  2]]\n",
      "\n",
      " [[ 5  6]\n",
      "  [ 7  8]\n",
      "  [ 9 10]]]\n",
      "shape của mảng trên là: (3, 3, 2)\n"
     ]
    }
   ],
   "source": [
    "# tạo 1 mảng 3 chiều\n",
    "# cũng có 2 cách như trên\n",
    "list3=[[[1,2],[3,4],[4,5]],\n",
    "       [[-1,3],[0,0],[1,2]],\n",
    "       [[5,6],[7,8],[9,10]]]\n",
    "data3=np.array(list3)\n",
    "print(data3)\n",
    "print('shape của mảng trên là:' , data3.shape)"
   ]
  },
  {
   "cell_type": "code",
   "execution_count": 24,
   "metadata": {},
   "outputs": [
    {
     "name": "stdout",
     "output_type": "stream",
     "text": [
      "kiểu dữ liệu của data1 là: int32\n",
      "kiểu dữ liệu của data2 là: float64\n",
      "kiểu dữ liệu của data3 là: int64\n"
     ]
    }
   ],
   "source": [
    "# kiểu dữ liệu\n",
    "#tạo vector data1\n",
    "data1=np.array([1,2,3,4])\n",
    "print('kiểu dữ liệu của data1 là:', data1.dtype)\n",
    "\n",
    "# tạo vector data2 có kiểu float\n",
    "data2=np.array([8.6, 0.7, 4.5])\n",
    "print('kiểu dữ liệu của data2 là:', data2.dtype)\n",
    "\n",
    "# khi tạo ta chọn kiểu \n",
    "data3=np.array([8,9,0,7], dtype=np.int64)\n",
    "print('kiểu dữ liệu của data3 là:', data3.dtype)"
   ]
  },
  {
   "cell_type": "code",
   "execution_count": 37,
   "metadata": {},
   "outputs": [
    {
     "name": "stdout",
     "output_type": "stream",
     "text": [
      "[[0. 0. 0. 0.]\n",
      " [0. 0. 0. 0.]\n",
      " [0. 0. 0. 0.]]\n",
      "[[1.]\n",
      " [1.]]\n",
      "[[1. 0. 0.]\n",
      " [0. 1. 0.]\n",
      " [0. 0. 1.]]\n",
      "[1 2 3 4]\n",
      "[0 2 4]\n",
      "[[0.77738393 0.64878491]\n",
      " [0.81193108 0.4456218 ]]\n"
     ]
    }
   ],
   "source": [
    "# các hàm tạo ma trận khác\n",
    "# hàm taọ ma trận toàn số 0\n",
    "matrix_zeros=np.zeros((3,4))\n",
    "print(matrix_zeros)\n",
    "\n",
    "# hàm tạo ma trận toàn số 1 \n",
    "matrix_ones= np.ones((2,1))\n",
    "print(matrix_ones)\n",
    "\n",
    "# hàm tạo ma trận đơn vị\n",
    "matrix_eyes=np.eye((3))\n",
    "print(matrix_eyes)\n",
    "\n",
    "# hàm tạo vector tuần tự np.arange(start,stop,step)\n",
    "arr= np.arange(1,5)\n",
    "arr1=np.arange(0,5,2)\n",
    "print(arr)\n",
    "print(arr1)\n",
    "\n",
    "# hàm random, tạo matrix ngẫu nhiên 2 hàng 2 cột\n",
    "arr_random= np.random.random((2,2))\n",
    "print(arr_random)\n",
    "# giá trị random nằm trong khoảng 0 đến 1"
   ]
  },
  {
   "cell_type": "code",
   "execution_count": 44,
   "metadata": {},
   "outputs": [
    {
     "name": "stdout",
     "output_type": "stream",
     "text": [
      "[0 1 2 3 4]\n",
      "[False False False  True  True]\n",
      "[ 0  5 10  3  4]\n"
     ]
    }
   ],
   "source": [
    "#tạo mảng theo điều kiện nào đó\n",
    "arr2= np.arange(5)\n",
    "boolean_vector=arr2>2\n",
    "print(arr2)\n",
    "print(boolean_vector)\n",
    "condition= np.where(boolean_vector,arr2,arr2*5)\n",
    "print(condition)"
   ]
  },
  {
   "cell_type": "code",
   "execution_count": 49,
   "metadata": {},
   "outputs": [
    {
     "name": "stdout",
     "output_type": "stream",
     "text": [
      "[[1 2]\n",
      " [4 5]\n",
      " [6 7]]\n",
      "[1 2 4 5 6 7]\n"
     ]
    }
   ],
   "source": [
    "# duỗi matrix nhiều chiều về 1 chiều\n",
    "arr3= np.array([[1,2],[4,5],[6,7]])\n",
    "out= arr3.flatten()\n",
    "print(arr3)\n",
    "print(out)"
   ]
  },
  {
   "cell_type": "code",
   "execution_count": 54,
   "metadata": {},
   "outputs": [
    {
     "name": "stdout",
     "output_type": "stream",
     "text": [
      "[[1 2]\n",
      " [3 4]\n",
      " [5 6]] (3, 2)\n",
      "matrix sau thay đổi kích cỡ\n",
      " [[1 2 3]\n",
      " [4 5 6]] (2, 3)\n"
     ]
    }
   ],
   "source": [
    "# reshape matrix\n",
    "arr4=np.array([[1,2],[3,4],[5,6]])\n",
    "print(arr4, arr4.shape)\n",
    "\n",
    "# ta sẽ thay đổi kích cỡ của ma trận trên\n",
    "out1= np.reshape(arr4,(2,3))\n",
    "print('matrix sau thay đổi kích cỡ\\n',out1,out1.shape)"
   ]
  },
  {
   "cell_type": "code",
   "execution_count": 60,
   "metadata": {},
   "outputs": [
    {
     "name": "stdout",
     "output_type": "stream",
     "text": [
      "[[1 2 3 4]\n",
      " [3 4 5 6]\n",
      " [5 6 7 7]]\n",
      "tất cả phần tử của cột 1: [2 4 6]\n",
      "[[3 4 5 6]\n",
      " [5 6 7 7]]\n"
     ]
    }
   ],
   "source": [
    "# index của mảng\n",
    "# tạo mảng 2 chiều\n",
    "arr5=np.array([[1,2,3,4],\n",
    "               [3,4,5,6],\n",
    "               [5,6,7,7]])\n",
    "print(arr5)\n",
    "\n",
    "# tìm tất cả các phần tử của cột 1\n",
    "col1_arr5=arr5[:,1]\n",
    "print('tất cả phần tử của cột 1:',col1_arr5)\n",
    "\n",
    "# tìm tất cả phần tử của hàng 2 và 3\n",
    "col2_3=arr5[1:,:]\n",
    "print(col2_3)"
   ]
  },
  {
   "cell_type": "code",
   "execution_count": 64,
   "metadata": {},
   "outputs": [
    {
     "name": "stdout",
     "output_type": "stream",
     "text": [
      "[[ 4  3  1  9]\n",
      " [10  1  1  7]]\n",
      "cộng cách 2:\n",
      " [[ 4  3  1  9]\n",
      " [10  1  1  7]]\n"
     ]
    }
   ],
   "source": [
    "# các phép toán trên array\n",
    "# phép cộng \n",
    "x=np.array([[1,2,3,4],[3,2,1,6]])\n",
    "y=np.array([[3,1,-2,5],[7,-1,0,1]])\n",
    "#cách 1\n",
    "z=x+y\n",
    "print(z)\n",
    "#cách 2\n",
    "z1=np.add(x,y)\n",
    "print('cộng cách 2:\\n', z1)\n",
    "\n",
    "# phép trừ tương tự thay hàm add bằng z=subtract(x,y)\n",
    "# lưu ý các array cộng với nhau phải có cỡ bằng nhau"
   ]
  },
  {
   "cell_type": "code",
   "execution_count": 70,
   "metadata": {},
   "outputs": [
    {
     "name": "stdout",
     "output_type": "stream",
     "text": [
      "cách1:\n",
      " [[ 3  2 -6 20]\n",
      " [21 -2  0  6]]\n",
      "cách 2:\n",
      " [[12  3 -2 45]\n",
      " [70 -1  0  7]]\n"
     ]
    }
   ],
   "source": [
    "# phép nhân từng vị trí của array1 với array2\n",
    "# lưu ý 2 array phải có cỡ bằng nhau\n",
    "z2=x*y\n",
    "print('cách1:\\n', z2)\n",
    "print('cách 2:\\n' ,np.multiply(z,y))\n",
    "# phép chia từng vị trí cũng  như thế"
   ]
  },
  {
   "cell_type": "code",
   "execution_count": 77,
   "metadata": {},
   "outputs": [
    {
     "name": "stdout",
     "output_type": "stream",
     "text": [
      "matrix x:\n",
      " [[1 2]\n",
      " [2 3]\n",
      " [3 4]]\n",
      "matrix y:\n",
      " [[ 1  2 -3  6]\n",
      " [-7  1  2  6]]\n",
      "matrix kết pảu phép nhân z=x*y\n",
      " [[-13   4   1  18]\n",
      " [-19   7   0  30]\n",
      " [-25  10  -1  42]]\n",
      "cách 2:\n",
      " [[-13   4   1  18]\n",
      " [-19   7   0  30]\n",
      " [-25  10  -1  42]]\n"
     ]
    }
   ],
   "source": [
    "# phép nhân ma trận\n",
    "# lưu ý khi nhân phải chú ý kích cỡ ma trận\n",
    "# 2 matrix a và b nhân được với nhau khi số cột matrix thứ nhất bằng số hàng matrix thứ 2\n",
    "# vd: A(a,b)*B(b,c)=C(a,c)\n",
    "x1=np.array([[1,2],[2,3],[3,4]])\n",
    "y1=np.array([[1,2,-3,6],[-7,1,2,6]])\n",
    "z3=x1.dot(y1)\n",
    "print('matrix x:\\n',x1)\n",
    "print('matrix y:\\n',y1)\n",
    "print('matrix kết pảu phép nhân z=x*y\\n',z3)\n",
    "print('cách 2:\\n', np.dot(x1,y1))\n",
    "# lưu ý phép nhân ma trận không có tính giao hoán"
   ]
  },
  {
   "cell_type": "code",
   "execution_count": 81,
   "metadata": {},
   "outputs": [
    {
     "name": "stdout",
     "output_type": "stream",
     "text": [
      "[[5 1]\n",
      " [6 2]\n",
      " [7 3]]\n"
     ]
    }
   ],
   "source": [
    "# ma trận chuyển vị\n",
    "# chuyển hàng thành cột và cột thành hàng\n",
    "#vd: A(2,3) ==> A(3,2)\n",
    "arr6=np.array([[5,6,7],[1,2,3]])\n",
    "out4=arr6.T\n",
    "print(out4)"
   ]
  },
  {
   "cell_type": "code",
   "execution_count": 93,
   "metadata": {},
   "outputs": [
    {
     "name": "stdout",
     "output_type": "stream",
     "text": [
      "[[  1   2   5  -9]\n",
      " [  3   4   7 -10]\n",
      " [  1   3   4   2]]\n",
      "tổng tất cả các phần tử:\n",
      " 13\n",
      "tổng từng hàng:\n",
      " [-1  4 10]\n",
      "tổng từng cột;\n",
      " [  5   9  16 -17]\n"
     ]
    }
   ],
   "source": [
    "# tính tông 1 matrix\n",
    "arr7=np.array([[1,2,5,-9],[3,4,7,-10],[1,3,4,2]])\n",
    "print(arr7)\n",
    "# tổng tất cả các phần tử\n",
    "t= np.sum(arr7)\n",
    "print('tổng tất cả các phần tử:\\n',t)\n",
    "\n",
    "print('tổng từng hàng:\\n', np.sum(arr7,axis=1))\n",
    "print('tổng từng cột;\\n', np.sum(arr7,axis=0))\n",
    "# lưu ý theo tác trên cột thì axis=0 còn trên hàng axis=1\n",
    "# hàm max, min tương tự thay bằng hàm np.max(), np.min()"
   ]
  }
 ],
 "metadata": {
  "kernelspec": {
   "display_name": "Python 3",
   "language": "python",
   "name": "python3"
  },
  "language_info": {
   "codemirror_mode": {
    "name": "ipython",
    "version": 3
   },
   "file_extension": ".py",
   "mimetype": "text/x-python",
   "name": "python",
   "nbconvert_exporter": "python",
   "pygments_lexer": "ipython3",
   "version": "3.8.3"
  }
 },
 "nbformat": 4,
 "nbformat_minor": 4
}
